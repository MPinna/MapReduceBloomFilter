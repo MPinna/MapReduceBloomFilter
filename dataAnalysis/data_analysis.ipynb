{
 "cells": [
  {
   "cell_type": "markdown",
   "metadata": {},
   "source": [
    "# Test results analysis"
   ]
  },
  {
   "cell_type": "markdown",
   "metadata": {},
   "source": [
    "* Download results"
   ]
  },
  {
   "cell_type": "code",
   "execution_count": 1,
   "metadata": {},
   "outputs": [],
   "source": [
    "from paramiko import SSHClient\n",
    "from scp import SCPClient\n",
    "\n",
    "USER='hadoop'\n",
    "HOST='172.16.4.135'\n",
    "PASSWD='hadoop'\n",
    "REMOTE_WORKING_DIR = 'bloom'\n",
    "REMOTE_LOGS=f'/home/{USER}/{REMOTE_WORKING_DIR}/logs'\n",
    "LOGS='data/logs'\n",
    "\n",
    "client = SSHClient()\n",
    "client.load_system_host_keys()\n",
    "client.connect(hostname=HOST, username=USER, password=PASSWD)\n",
    "\n",
    "scp = SCPClient(client.get_transport())\n",
    "scp.get(REMOTE_LOGS, recursive=True, local_path='data/')\n",
    "scp.close()\n",
    "client.close()"
   ]
  },
  {
   "cell_type": "markdown",
   "metadata": {},
   "source": [
    "* Load data"
   ]
  },
  {
   "cell_type": "code",
   "execution_count": 1,
   "metadata": {},
   "outputs": [],
   "source": [
    "import json\n",
    "import glob\n",
    "hadoop_log_filename = glob.glob(\"data/logs/hadoop_log*.json\")[-1]\n",
    "\n",
    "hadoop_logs = {}\n",
    "with open(hadoop_log_filename) as js:\n",
    "    hadoop_logs = json.load(js)\n",
    "\n",
    "with open(hadoop_log_filename, 'w') as js:\n",
    "   json.dump(hadoop_logs, js, indent=2)"
   ]
  },
  {
   "cell_type": "markdown",
   "metadata": {},
   "source": [
    "* Hadoop data"
   ]
  },
  {
   "cell_type": "code",
   "execution_count": 2,
   "metadata": {},
   "outputs": [
    {
     "name": "stdout",
     "output_type": "stream",
     "text": [
      "Total execution time: 5:31:54\n"
     ]
    }
   ],
   "source": [
    "from datetime import datetime \n",
    "import numpy as np\n",
    "import pandas as pd\n",
    "\n",
    "start = datetime.strptime(hadoop_logs['start'], '%d-%m-%Y_%H.%M.%S')\n",
    "stop = datetime.strptime(hadoop_logs['stop'], '%d-%m-%Y_%H.%M.%S')\n",
    "total_time = stop - start\n",
    "print(f'Total execution time: {total_time}')\n",
    "\n",
    "with_bloom_filter = hadoop_logs['tests']['WithBloomFilters']\n",
    "with_indexes = hadoop_logs['tests']['WithIndexes']\n",
    "\n",
    "#wall_time = {'withBloomFilter':0,'withIndexes':0}\n",
    "#for test in with_bloom_filter:\n",
    "#    wall_time['withBloomFilter'] += np.sum(pd.DataFrame(with_bloom_filter[test])['wallTime'])\n",
    "#\n",
    "#for test in with_indexes:\n",
    "#    wall_time['withIndexes'] += np.sum(pd.DataFrame(with_indexes[test])['wallTime'])\n",
    "#\n",
    "#print('Version delta time (BloomFiler-Indexes): ' + \n",
    "#        f\"{round(wall_time['withIndexes'] - wall_time['withBloomFilter']) / 10 ** 9} seconds\")"
   ]
  },
  {
   "cell_type": "markdown",
   "metadata": {},
   "source": [
    "* Aggregate data"
   ]
  },
  {
   "cell_type": "code",
   "execution_count": 30,
   "metadata": {},
   "outputs": [],
   "source": [
    "from numpy import char as npc\n",
    "\n",
    "avg_wall_time = 0\n",
    "hadoop_aggregate = {}\n",
    "with open ('data/hadoop_aggregate.txt','w') as out:\n",
    "    for version, version_name in zip([with_bloom_filter, with_indexes],['WithBloomFilters','WithIndexes']):\n",
    "        for test_name in version:\n",
    "            out.write(f\"\\n************** {version_name} {test_name} **************\\n\\n\")\n",
    "            test = pd.DataFrame(version[test_name])\n",
    "            wall_time = round(np.average(test['wallTime']) / 10**9, 2)\n",
    "            vector_logs = npc.array(test['log'])\n",
    "            partitions = npc.partition(test['log'].to_list(), 'File System Counters\\n')\n",
    "            metrics = [metric[-1] for metric in partitions]\n",
    "            metrics = npc.splitlines(metrics)\n",
    "            metrics = [(npc.split(npc.strip(metric), '=')) for metric in metrics]\n",
    "            metrics = [filter(lambda m: len(m) == 2, metric) for metric in metrics]\n",
    "            metrics =[dict([(m[0],float(m[1])) for m in metric]) for metric in metrics]\n",
    "\n",
    "            metrics_df = pd.DataFrame(metrics)\n",
    "            aggregate_metrics = {'wallTime':{\n",
    "                'avg': round(np.average(test['wallTime'] / 10**9), 2),\n",
    "                'max': round(np.max(test['wallTime'] / 10**9), 2),\n",
    "                'min': round(np.min(test['wallTime'] / 10**9), 2),\n",
    "                'var': round(np.var(test['wallTime'] / 10**9), 2),\n",
    "                'std': round(np.std(test['wallTime'] / 10**9), 2)}}\n",
    "            \n",
    "            out.write(f\"{f'{test_name}, wall time:':75} {wall_time}\\n\")\n",
    "            for m in metrics[0]:\n",
    "               \n",
    "                aggregate_metrics[m]={\n",
    "                    'avg': round(np.average(metrics_df[m]),2), \n",
    "                    'max': round(np.max(metrics_df[m]),2), \n",
    "                    'min': round(np.min(metrics_df[m]),2),\n",
    "                    'var': round(np.var(metrics_df[m]),2),\n",
    "                    'std': round(np.std(metrics_df[m]),2)\n",
    "                }\n",
    "                if m == 'Killed map tasks': \n",
    "                    aggregate_metrics[m]['avg'] = 'Nan'         \n",
    "                    \n",
    "                out.write(f\"{f'{test_name}, {m}:':75} {np.average(metrics_df[m]), np.max(metrics_df[m]), np.min(metrics_df[m])}\\n\")\n",
    "\n",
    "            hadoop_aggregate[f'{version_name}{test_name}'] = aggregate_metrics\n",
    "            \n",
    "with open('data/hadoop_aggregate.json','w') as out:\n",
    "    json.dump(hadoop_aggregate, out, indent=2)"
   ]
  },
  {
   "cell_type": "markdown",
   "metadata": {},
   "source": [
    "* Plot data"
   ]
  },
  {
   "cell_type": "code",
   "execution_count": 284,
   "metadata": {},
   "outputs": [],
   "source": [
    "import matplotlib.pyplot as plt\n",
    "import seaborn as sns\n",
    "import os\n",
    "\n",
    "os.makedirs(\"data/plots\", exist_ok=True)\n",
    "\n",
    "INTERACTIVE=True\n",
    "IGNORE_X=False\n",
    "COLORS = sns.color_palette(None, 10) \n",
    "\n",
    "plt.rcParams[\"figure.figsize\"] = [15, 7.5]\n",
    "\n",
    "plt.rcParams[\"figure.autolayout\"] = False\n",
    "\n",
    "def plot_data(filename, x_series, y_series, legend, labels, title='', colors=COLORS, scale='linear', **kwargs):\n",
    "\n",
    "    #if x_series is not None and not IGNORE_X:\n",
    "    #    plt.xticks(np.arange(min(x_series), max(x_series) + 1, 100000.0))\n",
    "\n",
    "    for data, label, color in zip(y_series, legend, colors):\n",
    "        x = range(0, len(data)) if x_series is None or IGNORE_X else x_series\n",
    "        plt.plot(x, data, label=label, color=color, **kwargs)\n",
    "\n",
    "    plt.legend()\n",
    "    plt.grid(axis='y', linestyle=(0,(1,5)), color='black')\n",
    "    plt.title(title, fontsize=18, weight='bold')\n",
    "    plt.ylim(bottom=0)\n",
    "    plt.xlabel(labels[0],fontsize=12, style='italic')\n",
    "    plt.ylabel(labels[1],fontsize=12, style='italic')   \n",
    "    plt.yscale(scale)\n",
    "\n",
    "    plt.savefig(f\"data/plots/{filename}.pdf\")\n",
    "    plt.savefig(f\"data/plots/{filename}.png\")\n",
    "    \n",
    "\n",
    "    if INTERACTIVE:\n",
    "        plt.show()\n",
    "\n",
    "    plt.close()\n",
    "\n",
    "    #print(f\"{filename} ready !\")"
   ]
  },
  {
   "cell_type": "markdown",
   "metadata": {},
   "source": [
    "* Map output bytes over K"
   ]
  },
  {
   "cell_type": "code",
   "execution_count": 277,
   "metadata": {},
   "outputs": [],
   "source": [
    "P = ['0.1', '0.01', '0.001', '0.0001', '0.00001']\n",
    "K = ['3', '5', '7', '9', '0']\n",
    "MAP = ['4', '6', '8', '10', '12']\n",
    "MAP_P='0.001'\n",
    "MAP_K='0'\n",
    "\n",
    "bloom = [[round(hadoop_aggregate[f'WithBloomFiltersP{p}K{k}']['Map output bytes']['avg']/2**20, 2) for k in K[:-1]] for p in P]\n",
    "indexes = [[round(hadoop_aggregate[f'WithIndexesP{p}K{k}']['Map output bytes']['avg']/2**20, 2) for k in K[:-1]] for p in P]\n",
    "data = bloom + indexes\n",
    "legend = [f'{version}: FP rate = {p}' for version in ['WithBloomFilters'] for p in P ]\n",
    "legend.append('WithIndexes')\n",
    "\n",
    "plot_data('MapOutputBytesK', K[:-1], data, legend, ['# Hash Functions (K)', 'Map output bytes [MB]'], \n",
    "          title='Map output bytes over K', colors=sns.color_palette('Greens_d', 5) + ['red'] )\n",
    "\n",
    "    "
   ]
  },
  {
   "cell_type": "markdown",
   "metadata": {},
   "source": [
    "* Map output bytes over P"
   ]
  },
  {
   "cell_type": "code",
   "execution_count": 278,
   "metadata": {},
   "outputs": [],
   "source": [
    "P = ['0.1', '0.01', '0.001', '0.0001', '0.00001']\n",
    "K = ['3', '5', '7', '9']\n",
    "MAP = ['4', '6', '8', '10', '12']\n",
    "MAP_P='0.001'\n",
    "MAP_K='0'\n",
    "\n",
    "bloom = [[round(hadoop_aggregate[f'WithBloomFiltersP{p}K{k}']['Map output bytes']['avg']/2**20, 2) for p in P] for k in K]\n",
    "indexes = [[round(hadoop_aggregate[f'WithIndexesP{p}K{k}']['Map output bytes']['avg']/2**20, 2) for p in P] for k in K]\n",
    "data = bloom + indexes\n",
    "legend = [f'{version}: K = {k}' for version in ['WithBloomFilters'] for k in K ]\n",
    "legend.append('WithIndexes')\n",
    "\n",
    "plot_data('MapOutputBytesP', P, data, legend, ['False positive rate', 'Map output bytes [MB]'], \n",
    "          title='Map output bytes over P', colors=sns.color_palette('Greens_d', 4) + ['red'] )"
   ]
  },
  {
   "cell_type": "markdown",
   "metadata": {},
   "source": [
    "* Map output bytes rate over K"
   ]
  },
  {
   "cell_type": "code",
   "execution_count": 279,
   "metadata": {},
   "outputs": [
    {
     "name": "stdout",
     "output_type": "stream",
     "text": [
      "[1.1247017564954398, 1.1249494067369712, 1.1249460363642334, 1.124987299867653]\n"
     ]
    }
   ],
   "source": [
    "with open('data/parameters.json') as pf:\n",
    "    params = json.load(pf)\n",
    "    \n",
    "K = ['3', '5', '7', '9']\n",
    "P = ['0.1', '0.01', '0.001', '0.0001', '0.00001']\n",
    "\n",
    "bloom = [[round(hadoop_aggregate[f'WithBloomFiltersP{p}K{k}']['Map output bytes']['avg']) for k in K] for p in P]\n",
    "indexes = [[round(hadoop_aggregate[f'WithIndexesP{p}K{k}']['Map output bytes']['avg']) for k in K] for p in P]\n",
    "\n",
    "M = [[np.sum(params[f'P{p}K{k}']['M']) for k in K] for p in P]\n",
    "data = []\n",
    "\n",
    "\n",
    "for m, mob in zip(M, indexes):\n",
    "    data.append([x/y for x,y in zip(mob,m)])\n",
    "    \n",
    "for m, mob in zip(M, bloom):\n",
    "    data.append([x/y for x,y in zip(mob,m)])\n",
    "\n",
    "print(data[-1])  \n",
    " \n",
    "legend = [f'{version}: FP rate = {p}' for version in ['WithIndexes'] for p in P ] + ['WithBloomFilters']\n",
    "\n",
    "plot_data('MapOutputBytesRateK', K, data, legend, ['# Hash Functions (K)', 'Map output bytes [B/b]'], \n",
    "          title='Map output bytes rate over K', colors = sns.color_palette('Reds_d', 5)+ sns.color_palette('Greens_d', 1))\n"
   ]
  },
  {
   "cell_type": "markdown",
   "metadata": {},
   "source": [
    "* Map output bytes rate over P"
   ]
  },
  {
   "cell_type": "code",
   "execution_count": 280,
   "metadata": {},
   "outputs": [],
   "source": [
    "with open('data/parameters.json') as pf:\n",
    "    params = json.load(pf)\n",
    "    \n",
    "K = ['3', '5', '7', '9']\n",
    "P = ['0.00001', '0.0001', '0.001', '0.01','0.1']\n",
    "\n",
    "bloom = [[round(hadoop_aggregate[f'WithBloomFiltersP{p}K{k}']['Map output bytes']['avg']) for p in P] for k in K]\n",
    "indexes = [[round(hadoop_aggregate[f'WithIndexesP{p}K{k}']['Map output bytes']['avg']) for p in P] for k in K]\n",
    "\n",
    "M = [[np.sum(params[f'P{p}K{k}']['M']) for p in P] for k in K]\n",
    "data = []\n",
    "\n",
    "\n",
    "for m, mob in zip(M, indexes):\n",
    "    data.append([x/y for x,y in zip(mob,m)])\n",
    "    \n",
    "for m, mob in zip(M, bloom):\n",
    "    data.append([x/y for x,y in zip(mob,m)])\n",
    "    \n",
    "legend = [f'{version}: K = {k}' for version in ['WithBloomFilters','WithIndexes'] for k in K ] + ['WithBloomFilters']\n",
    "\n",
    "plot_data('MapOutputBytesRateP', P, data, legend, ['False positive rate', 'Map output bytes [B/b]'], \n",
    "          title='Map output bytes rate over P', colors = sns.color_palette('Greens_d', 4) + sns.color_palette('Reds_d', 4))"
   ]
  },
  {
   "cell_type": "markdown",
   "metadata": {},
   "source": [
    "* Map output bytes over P, best K"
   ]
  },
  {
   "cell_type": "code",
   "execution_count": 290,
   "metadata": {},
   "outputs": [
    {
     "data": {
      "image/png": "[encoded data removed]",
      "text/plain": [
       "<Figure size 1080x540 with 1 Axes>"
      ]
     },
     "metadata": {
      "needs_background": "light"
     },
     "output_type": "display_data"
    }
   ],
   "source": [
    "P = ['0.1', '0.01', '0.001', '0.0001', '0.00001']\n",
    "K = ['0']\n",
    "MAP = ['4', '6', '8', '10', '12']\n",
    "MAP_P='0.001'\n",
    "MAP_K='0'\n",
    "\n",
    "bloom = [[round(hadoop_aggregate[f'WithBloomFiltersP{p}K{k}']['Map output bytes']['avg']/2**20, 2) for p in P] for k in K]\n",
    "indexes = [[round(hadoop_aggregate[f'WithIndexesP{p}K{k}']['Map output bytes']['avg']/2**20, 2) for p in P] for k in K]\n",
    "data = bloom + indexes\n",
    "legend = [f'{version}' for version in ['WithBloomFilters', 'WithIndexes']]\n",
    "\n",
    "plot_data('MapOutputBytesP_bestK', P, data, legend, ['False positive rate', 'Map output bytes [MB]'], \n",
    "          title='Map output bytes over P, best K', colors=sns.color_palette('Greens_d', 1) + sns.color_palette('Reds_d', 1) )"
   ]
  },
  {
   "cell_type": "markdown",
   "metadata": {},
   "source": [
    "* Map output bytes over M, best K"
   ]
  },
  {
   "cell_type": "code",
   "execution_count": 297,
   "metadata": {},
   "outputs": [
    {
     "data": {
      "image/png": "[encoded data removed]",
      "text/plain": [
       "<Figure size 1080x540 with 1 Axes>"
      ]
     },
     "metadata": {
      "needs_background": "light"
     },
     "output_type": "display_data"
    }
   ],
   "source": [
    "P = ['0.1', '0.01', '0.001', '0.0001', '0.00001']\n",
    "K = ['0']\n",
    "MAP = ['4', '6', '8', '10', '12']\n",
    "MAP_P='0.001'\n",
    "MAP_K='0'\n",
    "M = [np.sum(m)/2**23 for m in [params[f'P{p}K0']['M'] for p in P]]\n",
    "\n",
    "bloom = [[round(hadoop_aggregate[f'WithBloomFiltersP{p}K{k}']['Map output bytes']['avg']/2**20, 2) for p in P] for k in K]\n",
    "indexes = [[round(hadoop_aggregate[f'WithIndexesP{p}K{k}']['Map output bytes']['avg']/2**20, 2) for p in P] for k in K]\n",
    "data = bloom + indexes\n",
    "legend = [f'{version}' for version in ['WithBloomFilters', 'WithIndexes']]\n",
    "\n",
    "plot_data('MapOutputBytesM_bestK', M, data, legend, ['Bitarray [MB]', 'Map output bytes [MB]'], \n",
    "          title='Map output bytes over M, best K', colors=sns.color_palette('Greens_d', 1) + sns.color_palette('Reds_d', 1))"
   ]
  }
 ],
 "metadata": {
  "kernelspec": {
   "display_name": "Python 3.9.1 64-bit",
   "language": "python",
   "name": "python3"
  },
  "language_info": {
   "codemirror_mode": {
    "name": "ipython",
    "version": 3
   },
   "file_extension": ".py",
   "mimetype": "text/x-python",
   "name": "python",
   "nbconvert_exporter": "python",
   "pygments_lexer": "ipython3",
   "version": "3.9.1"
  },
  "orig_nbformat": 4,
  "vscode": {
   "interpreter": {
    "hash": "833efb281c31f7a56f36b475c6c944669cb7b37785aace1e7f91dacc9703b4b5"
   }
  }
 },
 "nbformat": 4,
 "nbformat_minor": 2
}
