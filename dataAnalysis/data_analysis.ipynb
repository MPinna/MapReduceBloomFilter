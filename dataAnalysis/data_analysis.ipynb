{
 "cells": [
  {
   "cell_type": "markdown",
   "metadata": {},
   "source": [
    "# Test results analysis"
   ]
  },
  {
   "cell_type": "markdown",
   "metadata": {},
   "source": [
    "* Download results"
   ]
  },
  {
   "cell_type": "code",
   "execution_count": 1,
   "metadata": {},
   "outputs": [],
   "source": [
    "from paramiko import SSHClient\n",
    "from scp import SCPClient\n",
    "\n",
    "USER='hadoop'\n",
    "HOST='172.16.4.135'\n",
    "PASSWD='hadoop'\n",
    "REMOTE_WORKING_DIR = 'bloom'\n",
    "REMOTE_LOGS=f'/home/{USER}/{REMOTE_WORKING_DIR}/logs'\n",
    "LOGS='data/logs'\n",
    "\n",
    "client = SSHClient()\n",
    "client.load_system_host_keys()\n",
    "client.connect(hostname=HOST, username=USER, password=PASSWD)\n",
    "\n",
    "scp = SCPClient(client.get_transport())\n",
    "#scp.get(REMOTE_LOGS, recursive=True, local_path='data/')\n",
    "scp.close()\n",
    "client.close()"
   ]
  },
  {
   "cell_type": "markdown",
   "metadata": {},
   "source": [
    "* Load data"
   ]
  },
  {
   "cell_type": "code",
   "execution_count": 10,
   "metadata": {},
   "outputs": [],
   "source": [
    "import json\n",
    "import glob\n",
    "log_filename = glob.glob(\"data/logs/test_log*.json\")[-1]\n",
    "\n",
    "logs = {}\n",
    "with open(log_filename) as js:\n",
    "    logs = json.load(js)\n",
    "\n",
    "with open(log_filename, 'w') as js:\n",
    "   json.dump(logs, js, indent=2)"
   ]
  },
  {
   "cell_type": "code",
   "execution_count": 64,
   "metadata": {},
   "outputs": [
    {
     "name": "stdout",
     "output_type": "stream",
     "text": [
      "Total execution time: 5:31:54\n",
      "Version delta time (BloomFiler-Indexes): 703.355039628 seconds\n"
     ]
    }
   ],
   "source": [
    "from datetime import datetime \n",
    "import numpy as np\n",
    "import pandas as pd\n",
    "\n",
    "start = datetime.strptime(logs['start'], '%d-%m-%Y_%H.%M.%S')\n",
    "stop = datetime.strptime(logs['stop'], '%d-%m-%Y_%H.%M.%S')\n",
    "total_time = stop - start\n",
    "print(f'Total execution time: {total_time}')\n",
    "\n",
    "with_bloom_filter = logs['tests']['WithBloomFilters']\n",
    "with_indexes = logs['tests']['WithIndexes']\n",
    "\n",
    "wall_time = {'withBloomFilter':0,'withIndexes':0}\n",
    "for test in with_bloom_filter:\n",
    "    wall_time['withBloomFilter'] += np.sum(pd.DataFrame(with_bloom_filter[test])['wallTime'])\n",
    "\n",
    "for test in with_indexes:\n",
    "    wall_time['withIndexes'] += np.sum(pd.DataFrame(with_indexes[test])['wallTime'])\n",
    "\n",
    "print('Version delta time (BloomFiler-Indexes): ' + \n",
    "        f\"{round(wall_time['withIndexes'] - wall_time['withBloomFilter']) / 10 ** 9} seconds\")"
   ]
  }
 ],
 "metadata": {
  "kernelspec": {
   "display_name": "Python 3.9.2 64-bit",
   "language": "python",
   "name": "python3"
  },
  "language_info": {
   "codemirror_mode": {
    "name": "ipython",
    "version": 3
   },
   "file_extension": ".py",
   "mimetype": "text/x-python",
   "name": "python",
   "nbconvert_exporter": "python",
   "pygments_lexer": "ipython3",
   "version": "3.9.2"
  },
  "orig_nbformat": 4,
  "vscode": {
   "interpreter": {
    "hash": "8aaef33e4825cc75c10d5503a8badec4de06c5b884d15b4da0ae20ec31a339b4"
   }
  }
 },
 "nbformat": 4,
 "nbformat_minor": 2
}
